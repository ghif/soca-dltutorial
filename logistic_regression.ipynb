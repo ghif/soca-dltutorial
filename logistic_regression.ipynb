{
 "cells": [
  {
   "cell_type": "code",
   "execution_count": 1,
   "metadata": {
    "collapsed": true
   },
   "outputs": [],
   "source": [
    "# Load all necessary libs\n",
    "import numpy as np\n",
    "import gzip\n",
    "import cPickle as pickle\n",
    "from utils import *\n",
    "from IPython.display import Image"
   ]
  },
  {
   "cell_type": "code",
   "execution_count": 2,
   "metadata": {
    "collapsed": false
   },
   "outputs": [
    {
     "name": "stderr",
     "output_type": "stream",
     "text": [
      "Using Theano backend.\n",
      "C:\\Anaconda\\lib\\site-packages\\theano-0.8.0.dev0-py2.7.egg\\theano\\tensor\\signal\\downsample.py:5: UserWarning: downsample module has been moved to the pool module.\n",
      "  warnings.warn(\"downsample module has been moved to the pool module.\")\n"
     ]
    }
   ],
   "source": [
    "# Load keras modules\n",
    "from keras.layers.core import Dense, Activation\n",
    "from keras.models import Sequential\n",
    "from keras.optimizers import SGD\n",
    "from keras.utils import np_utils"
   ]
  },
  {
   "cell_type": "code",
   "execution_count": 3,
   "metadata": {
    "collapsed": false
   },
   "outputs": [],
   "source": [
    "# load and preprocess dataset\n",
    "(X_train, y_train), (X_test, y_test) = pickle.load(gzip.open('usps.pkl.gz','rb'))\n",
    "\n",
    "\n",
    "# -- the input must be in the form of n x d matrix (n: #data, d: dimensionality)\n",
    "[n_train, _, d1, d2] = X_train.shape\n",
    "d = d1*d2\n",
    "X_train = np.reshape(X_train, (n_train, d)).astype('float32')\n",
    "X_train /= 255.0\n",
    "\n",
    "[n_test, _, d1, d2] = X_test.shape\n",
    "d = d1*d2\n",
    "X_test = np.reshape(X_test, (n_test, d)).astype('float32')\n",
    "X_test /= 255.0\n",
    "\n",
    "# -- the label must be converted into one-hot vector\n",
    "Y_train = np_utils.to_categorical(y_train, nb_classes=10)\n",
    "Y_test = np_utils.to_categorical(y_test, nb_classes=10)"
   ]
  },
  {
   "cell_type": "code",
   "execution_count": 5,
   "metadata": {
    "collapsed": true
   },
   "outputs": [],
   "source": [
    "# Verify / visualize data (optional)\n"
   ]
  },
  {
   "cell_type": "code",
   "execution_count": null,
   "metadata": {
    "collapsed": true
   },
   "outputs": [],
   "source": [
    "# Create logistic regression model"
   ]
  },
  {
   "cell_type": "code",
   "execution_count": 6,
   "metadata": {
    "collapsed": false
   },
   "outputs": [],
   "source": [
    "# Define optimizer and loss function\n",
    "\n"
   ]
  },
  {
   "cell_type": "code",
   "execution_count": null,
   "metadata": {
    "collapsed": true
   },
   "outputs": [],
   "source": [
    "# Training"
   ]
  }
 ],
 "metadata": {
  "kernelspec": {
   "display_name": "Python 2",
   "language": "python",
   "name": "python2"
  },
  "language_info": {
   "codemirror_mode": {
    "name": "ipython",
    "version": 2
   },
   "file_extension": ".py",
   "mimetype": "text/x-python",
   "name": "python",
   "nbconvert_exporter": "python",
   "pygments_lexer": "ipython2",
   "version": "2.7.8"
  }
 },
 "nbformat": 4,
 "nbformat_minor": 0
}
